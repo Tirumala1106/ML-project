{
 "cells": [
  {
   "cell_type": "code",
   "execution_count": 1,
   "id": "e71a0cff",
   "metadata": {},
   "outputs": [],
   "source": [
    "import numpy as np\n",
    "import pandas as pd"
   ]
  },
  {
   "cell_type": "code",
   "execution_count": 2,
   "id": "ce0f2043",
   "metadata": {},
   "outputs": [
    {
     "name": "stdout",
     "output_type": "stream",
     "text": [
      "        age  income student credit_rating buys_computer\n",
      "0      <=30    high      no          fair            no\n",
      "1      <=30    high      no     excellent            no\n",
      "2   31...40    high      no          fair           yes\n",
      "3       >40  medium      no          fair           yes\n",
      "4       >40     low     yes          fair            no\n",
      "5       >40     low     yes     excellent            no\n",
      "6   31...40     low     yes     excellent           yes\n",
      "7      <=30  medium      no          fair           yes\n",
      "8      <=30     low     yes          fair           yes\n",
      "9       >40  medium     yes          fair           yes\n",
      "10     <=30  medium     yes     excellent           yes\n",
      "11  31...40    high      no          fair           yes\n",
      "12  31...40  medium      no          fair            no\n"
     ]
    }
   ],
   "source": [
    "import pandas as pd\n",
    "\n",
    "data = {\n",
    "    'age': ['<=30', '<=30', '31...40', '>40', '>40', '>40', '31...40', '<=30', '<=30', '>40', '<=30', '31...40', '31...40'],\n",
    "    'income': ['high', 'high', 'high', 'medium', 'low', 'low', 'low', 'medium', 'low', 'medium', 'medium', 'high', 'medium'],\n",
    "    'student': ['no', 'no', 'no', 'no', 'yes', 'yes', 'yes', 'no', 'yes', 'yes', 'yes', 'no', 'no'],\n",
    "    'credit_rating': ['fair', 'excellent', 'fair', 'fair', 'fair', 'excellent', 'excellent', 'fair', 'fair', 'fair', 'excellent', 'fair', 'fair'],\n",
    "    'buys_computer': ['no', 'no', 'yes', 'yes', 'no', 'no', 'yes', 'yes', 'yes', 'yes', 'yes', 'yes', 'no']\n",
    "}\n",
    "\n",
    "df = pd.DataFrame(data)\n",
    "print(df)\n"
   ]
  },
  {
   "cell_type": "markdown",
   "id": "b1f812e8",
   "metadata": {},
   "source": [
    "### Question 2"
   ]
  },
  {
   "cell_type": "code",
   "execution_count": 3,
   "id": "ab151e8c",
   "metadata": {},
   "outputs": [
    {
     "name": "stdout",
     "output_type": "stream",
     "text": [
      "yes    0.615385\n",
      "no     0.384615\n",
      "Name: buys_computer, dtype: float64\n"
     ]
    }
   ],
   "source": [
    "total_instances = df.shape[0]\n",
    "\n",
    "class_counts = df['buys_computer'].value_counts()\n",
    "\n",
    "class_priors = class_counts / total_instances\n",
    "print(class_priors)"
   ]
  },
  {
   "cell_type": "code",
   "execution_count": 4,
   "id": "3369c770",
   "metadata": {},
   "outputs": [
    {
     "name": "stdout",
     "output_type": "stream",
     "text": [
      "{('age', 'no'): <=30       0.4\n",
      ">40        0.4\n",
      "31...40    0.2\n",
      "Name: age, dtype: float64, ('age', 'yes'): 31...40    0.375\n",
      "<=30       0.375\n",
      ">40        0.250\n",
      "Name: age, dtype: float64, ('income', 'no'): high      0.4\n",
      "low       0.4\n",
      "medium    0.2\n",
      "Name: income, dtype: float64, ('income', 'yes'): medium    0.50\n",
      "high      0.25\n",
      "low       0.25\n",
      "Name: income, dtype: float64, ('student', 'no'): no     0.6\n",
      "yes    0.4\n",
      "Name: student, dtype: float64, ('student', 'yes'): no     0.5\n",
      "yes    0.5\n",
      "Name: student, dtype: float64, ('credit_rating', 'no'): fair         0.6\n",
      "excellent    0.4\n",
      "Name: credit_rating, dtype: float64, ('credit_rating', 'yes'): fair         0.75\n",
      "excellent    0.25\n",
      "Name: credit_rating, dtype: float64}\n",
      "Class conditional densities do not contain zero values.\n"
     ]
    }
   ],
   "source": [
    "#Initiliasing a dictionary for class conditional density\n",
    "class_conditional_densities = {}\n",
    "\n",
    "#Calculating class conditional density\n",
    "for feature in df.columns[:-1]:\n",
    "    for class_value in df['buys_computer'].unique():\n",
    "        class_conditional_densities[(feature, class_value)] = df[df['buys_computer'] == class_value][feature].value_counts(normalize=True)\n",
    "        \n",
    "#Printing class conditional density for all the attributes\n",
    "print(class_conditional_densities)\n",
    "\n",
    "# Observe if any class conditional density has zero values\n",
    "zero_values_found = False\n",
    "for feature, class_value in class_conditional_densities:\n",
    "    if 0 in class_conditional_densities[(feature, class_value)]:\n",
    "        zero_values_found = True\n",
    "        break\n",
    "        \n",
    "#If class conditional densities have zero values print it\n",
    "if zero_values_found:\n",
    "    print(\"Class conditional densities contain zero values.\")\n",
    "    \n",
    "#If class conditional densities do not have zero values print it\n",
    "else:\n",
    "    print(\"Class conditional densities do not contain zero values.\")"
   ]
  },
  {
   "cell_type": "markdown",
   "id": "b0eb98d9",
   "metadata": {},
   "source": [
    "### Question 3"
   ]
  },
  {
   "cell_type": "code",
   "execution_count": 5,
   "id": "fe567c16",
   "metadata": {},
   "outputs": [
    {
     "name": "stdout",
     "output_type": "stream",
     "text": [
      "credit_rating           excellent  fair\n",
      "age     income student                 \n",
      "31...40 high   no               0     2\n",
      "        low    yes              1     0\n",
      "        medium no               0     1\n",
      "<=30    high   no               1     1\n",
      "        low    yes              0     1\n",
      "        medium no               0     1\n",
      "               yes              1     0\n",
      ">40     low    yes              1     1\n",
      "        medium no               0     1\n",
      "               yes              0     1\n"
     ]
    }
   ],
   "source": [
    "contingency_table = pd.crosstab(index=[df['age'], df['income'], df['student']], columns=df['credit_rating'])\n",
    "print(contingency_table)"
   ]
  },
  {
   "cell_type": "code",
   "execution_count": 6,
   "id": "94b57365",
   "metadata": {},
   "outputs": [
    {
     "name": "stdout",
     "output_type": "stream",
     "text": [
      "Chi-square statistic: 8.305555555555555\n",
      "P-value: 0.503670997708668\n"
     ]
    }
   ],
   "source": [
    "from scipy.stats import chi2_contingency\n",
    "\n",
    "# Performing chi-square test\n",
    "chi2, p, dof, expected = chi2_contingency(contingency_table)\n",
    "print(f\"Chi-square statistic: {chi2}\")\n",
    "print(f\"P-value: {p}\")"
   ]
  },
  {
   "cell_type": "markdown",
   "id": "9ab46506",
   "metadata": {},
   "source": [
    "### Question 4"
   ]
  },
  {
   "cell_type": "code",
   "execution_count": 7,
   "id": "1a72e67c",
   "metadata": {},
   "outputs": [
    {
     "name": "stdout",
     "output_type": "stream",
     "text": [
      "Accuracy of the Naïve-Bayes classifier: 0.6666666666666666\n"
     ]
    }
   ],
   "source": [
    "import pandas as pd\n",
    "from sklearn.naive_bayes import GaussianNB\n",
    "from sklearn.model_selection import train_test_split\n",
    "from sklearn.preprocessing import LabelEncoder\n",
    "\n",
    "# Assuming 'df' is your DataFrame\n",
    "\n",
    "# Convert categorical variables to numerical labels\n",
    "label_encoder = LabelEncoder()\n",
    "for column in df.columns:\n",
    "    df[column] = label_encoder.fit_transform(df[column])\n",
    "    \n",
    "# Separating features (X) and target variable (y)\n",
    "X = df.drop('buys_computer', axis=1)\n",
    "y = df['buys_computer']\n",
    "\n",
    "# Splitting the data into training and testing sets\n",
    "x_train, x_test, y_train, y_test = train_test_split(X, y, test_size=0.2, random_state=42)\n",
    "\n",
    "# Building the Naïve-Bayes classifier\n",
    "model = GaussianNB()\n",
    "\n",
    "# Training the model\n",
    "model.fit(x_train, y_train)\n",
    "\n",
    "# Predicting on the test set\n",
    "y_preds = model.predict(x_test)\n",
    "\n",
    "# Evaluating the model\n",
    "accuracy = model.score(x_test, y_test)\n",
    "print(f\"Accuracy of the Naïve-Bayes classifier: {accuracy}\")\n"
   ]
  },
  {
   "cell_type": "code",
   "execution_count": 12,
   "id": "aa7cbf9c",
   "metadata": {},
   "outputs": [
    {
     "data": {
      "text/html": [
       "<div>\n",
       "<style scoped>\n",
       "    .dataframe tbody tr th:only-of-type {\n",
       "        vertical-align: middle;\n",
       "    }\n",
       "\n",
       "    .dataframe tbody tr th {\n",
       "        vertical-align: top;\n",
       "    }\n",
       "\n",
       "    .dataframe thead th {\n",
       "        text-align: right;\n",
       "    }\n",
       "</style>\n",
       "<table border=\"1\" class=\"dataframe\">\n",
       "  <thead>\n",
       "    <tr style=\"text-align: right;\">\n",
       "      <th></th>\n",
       "      <th>serial_no</th>\n",
       "      <th>dissimilarity_0</th>\n",
       "      <th>dissimilarity_45</th>\n",
       "      <th>dissimilarity_90</th>\n",
       "      <th>dissimilarity_135</th>\n",
       "      <th>correlation_0</th>\n",
       "      <th>correlation_45</th>\n",
       "      <th>correlation_90</th>\n",
       "      <th>correlation_135</th>\n",
       "      <th>homogeneity_0</th>\n",
       "      <th>...</th>\n",
       "      <th>contrast_135</th>\n",
       "      <th>ASM_0</th>\n",
       "      <th>ASM_45</th>\n",
       "      <th>ASM_90</th>\n",
       "      <th>ASM_135</th>\n",
       "      <th>energy_0</th>\n",
       "      <th>energy_45</th>\n",
       "      <th>energy_90</th>\n",
       "      <th>energy_135</th>\n",
       "      <th>label</th>\n",
       "    </tr>\n",
       "  </thead>\n",
       "  <tbody>\n",
       "    <tr>\n",
       "      <th>0</th>\n",
       "      <td>1</td>\n",
       "      <td>33.571474</td>\n",
       "      <td>37.613824</td>\n",
       "      <td>30.087053</td>\n",
       "      <td>37.102539</td>\n",
       "      <td>0.771983</td>\n",
       "      <td>0.746361</td>\n",
       "      <td>0.809737</td>\n",
       "      <td>0.747152</td>\n",
       "      <td>0.341245</td>\n",
       "      <td>...</td>\n",
       "      <td>5075.587782</td>\n",
       "      <td>0.036918</td>\n",
       "      <td>0.030155</td>\n",
       "      <td>0.037329</td>\n",
       "      <td>0.029864</td>\n",
       "      <td>0.192141</td>\n",
       "      <td>0.173651</td>\n",
       "      <td>0.193207</td>\n",
       "      <td>0.172812</td>\n",
       "      <td>0</td>\n",
       "    </tr>\n",
       "    <tr>\n",
       "      <th>1</th>\n",
       "      <td>2</td>\n",
       "      <td>18.461546</td>\n",
       "      <td>25.806718</td>\n",
       "      <td>25.655944</td>\n",
       "      <td>26.883562</td>\n",
       "      <td>0.797231</td>\n",
       "      <td>0.627642</td>\n",
       "      <td>0.614348</td>\n",
       "      <td>0.586758</td>\n",
       "      <td>0.081968</td>\n",
       "      <td>...</td>\n",
       "      <td>1678.201018</td>\n",
       "      <td>0.000190</td>\n",
       "      <td>0.000158</td>\n",
       "      <td>0.000198</td>\n",
       "      <td>0.000165</td>\n",
       "      <td>0.013800</td>\n",
       "      <td>0.012556</td>\n",
       "      <td>0.014080</td>\n",
       "      <td>0.012841</td>\n",
       "      <td>0</td>\n",
       "    </tr>\n",
       "    <tr>\n",
       "      <th>2</th>\n",
       "      <td>3</td>\n",
       "      <td>17.975612</td>\n",
       "      <td>24.888646</td>\n",
       "      <td>23.639344</td>\n",
       "      <td>23.941351</td>\n",
       "      <td>0.800654</td>\n",
       "      <td>0.667611</td>\n",
       "      <td>0.716540</td>\n",
       "      <td>0.705741</td>\n",
       "      <td>0.094696</td>\n",
       "      <td>...</td>\n",
       "      <td>1324.597589</td>\n",
       "      <td>0.000161</td>\n",
       "      <td>0.000127</td>\n",
       "      <td>0.000132</td>\n",
       "      <td>0.000130</td>\n",
       "      <td>0.012707</td>\n",
       "      <td>0.011277</td>\n",
       "      <td>0.011473</td>\n",
       "      <td>0.011389</td>\n",
       "      <td>0</td>\n",
       "    </tr>\n",
       "  </tbody>\n",
       "</table>\n",
       "<p>3 rows × 26 columns</p>\n",
       "</div>"
      ],
      "text/plain": [
       "   serial_no  dissimilarity_0  dissimilarity_45  dissimilarity_90  \\\n",
       "0          1        33.571474         37.613824         30.087053   \n",
       "1          2        18.461546         25.806718         25.655944   \n",
       "2          3        17.975612         24.888646         23.639344   \n",
       "\n",
       "   dissimilarity_135  correlation_0  correlation_45  correlation_90  \\\n",
       "0          37.102539       0.771983        0.746361        0.809737   \n",
       "1          26.883562       0.797231        0.627642        0.614348   \n",
       "2          23.941351       0.800654        0.667611        0.716540   \n",
       "\n",
       "   correlation_135  homogeneity_0  ...  contrast_135     ASM_0    ASM_45  \\\n",
       "0         0.747152       0.341245  ...   5075.587782  0.036918  0.030155   \n",
       "1         0.586758       0.081968  ...   1678.201018  0.000190  0.000158   \n",
       "2         0.705741       0.094696  ...   1324.597589  0.000161  0.000127   \n",
       "\n",
       "     ASM_90   ASM_135  energy_0  energy_45  energy_90  energy_135  label  \n",
       "0  0.037329  0.029864  0.192141   0.173651   0.193207    0.172812      0  \n",
       "1  0.000198  0.000165  0.013800   0.012556   0.014080    0.012841      0  \n",
       "2  0.000132  0.000130  0.012707   0.011277   0.011473    0.011389      0  \n",
       "\n",
       "[3 rows x 26 columns]"
      ]
     },
     "execution_count": 12,
     "metadata": {},
     "output_type": "execute_result"
    }
   ],
   "source": [
    "from sklearn.metrics import accuracy_score\n",
    "df = pd.read_excel('dataset_final (1).xlsx')\n",
    "df.drop(\"fname\",axis=1,inplace=True)\n",
    "df.head(3)"
   ]
  },
  {
   "cell_type": "code",
   "execution_count": 11,
   "id": "c51f456c",
   "metadata": {},
   "outputs": [
    {
     "name": "stdout",
     "output_type": "stream",
     "text": [
      "Accuracy: 0.8457974851091992\n"
     ]
    }
   ],
   "source": [
    "x = df.drop(\"label\", axis=1)\n",
    "y = df[\"label\"]\n",
    "\n",
    "x_train, x_test, y_train, y_test = train_test_split(x, y, test_size=0.2, random_state=42)\n",
    "\n",
    "nb_model = GaussianNB()\n",
    "nb_model.fit(x_train,y_train)\n",
    "y_preds = nb_model.predict(x_test)\n",
    "accuracy = accuracy_score(y_test, y_preds)\n",
    "#printing the accuracy\n",
    "print(f\"Accuracy: {accuracy}\")"
   ]
  },
  {
   "cell_type": "code",
   "execution_count": null,
   "id": "49b9ee3a",
   "metadata": {},
   "outputs": [],
   "source": []
  }
 ],
 "metadata": {
  "kernelspec": {
   "display_name": "Python 3 (ipykernel)",
   "language": "python",
   "name": "python3"
  },
  "language_info": {
   "codemirror_mode": {
    "name": "ipython",
    "version": 3
   },
   "file_extension": ".py",
   "mimetype": "text/x-python",
   "name": "python",
   "nbconvert_exporter": "python",
   "pygments_lexer": "ipython3",
   "version": "3.11.4"
  }
 },
 "nbformat": 4,
 "nbformat_minor": 5
}
