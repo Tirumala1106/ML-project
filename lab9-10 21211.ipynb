{
 "cells": [
  {
   "cell_type": "code",
   "execution_count": 1,
   "metadata": {
    "executionInfo": {
     "elapsed": 4714,
     "status": "ok",
     "timestamp": 1701452414259,
     "user": {
      "displayName": "Hemanth Babu",
      "userId": "04889620377749764274"
     },
     "user_tz": -330
    },
    "id": "d4eZyHSqtO75"
   },
   "outputs": [],
   "source": [
    "import pandas as pd\n",
    "import matplotlib.pyplot as plt\n",
    "from sklearn.cluster import KMeans\n",
    "from sklearn.preprocessing import StandardScaler\n",
    "import warnings\n",
    "\n",
    "warnings.filterwarnings(\"ignore\")\n",
    "warnings.filterwarnings(\"ignore\", category=DeprecationWarning)"
   ]
  },
  {
   "cell_type": "code",
   "execution_count": 2,
   "metadata": {
    "colab": {
     "base_uri": "https://localhost:8080/",
     "height": 443
    },
    "executionInfo": {
     "elapsed": 17095,
     "status": "ok",
     "timestamp": 1701452498714,
     "user": {
      "displayName": "Hemanth Babu",
      "userId": "04889620377749764274"
     },
     "user_tz": -330
    },
    "id": "RqTDWZ1-drlB",
    "outputId": "71d280d9-36bd-4813-cee2-d9f223b9c3db"
   },
   "outputs": [
    {
     "data": {
      "text/html": [
       "<div>\n",
       "<style scoped>\n",
       "    .dataframe tbody tr th:only-of-type {\n",
       "        vertical-align: middle;\n",
       "    }\n",
       "\n",
       "    .dataframe tbody tr th {\n",
       "        vertical-align: top;\n",
       "    }\n",
       "\n",
       "    .dataframe thead th {\n",
       "        text-align: right;\n",
       "    }\n",
       "</style>\n",
       "<table border=\"1\" class=\"dataframe\">\n",
       "  <thead>\n",
       "    <tr style=\"text-align: right;\">\n",
       "      <th></th>\n",
       "      <th>serial_no</th>\n",
       "      <th>dissimilarity_0</th>\n",
       "      <th>dissimilarity_45</th>\n",
       "      <th>dissimilarity_90</th>\n",
       "      <th>dissimilarity_135</th>\n",
       "      <th>correlation_0</th>\n",
       "      <th>correlation_45</th>\n",
       "      <th>correlation_90</th>\n",
       "      <th>correlation_135</th>\n",
       "      <th>homogeneity_0</th>\n",
       "      <th>...</th>\n",
       "      <th>contrast_135</th>\n",
       "      <th>ASM_0</th>\n",
       "      <th>ASM_45</th>\n",
       "      <th>ASM_90</th>\n",
       "      <th>ASM_135</th>\n",
       "      <th>energy_0</th>\n",
       "      <th>energy_45</th>\n",
       "      <th>energy_90</th>\n",
       "      <th>energy_135</th>\n",
       "      <th>label</th>\n",
       "    </tr>\n",
       "  </thead>\n",
       "  <tbody>\n",
       "    <tr>\n",
       "      <th>0</th>\n",
       "      <td>1</td>\n",
       "      <td>33.571474</td>\n",
       "      <td>37.613824</td>\n",
       "      <td>30.087053</td>\n",
       "      <td>37.102539</td>\n",
       "      <td>0.771983</td>\n",
       "      <td>0.746361</td>\n",
       "      <td>0.809737</td>\n",
       "      <td>0.747152</td>\n",
       "      <td>0.341245</td>\n",
       "      <td>...</td>\n",
       "      <td>5075.587782</td>\n",
       "      <td>0.036918</td>\n",
       "      <td>0.030155</td>\n",
       "      <td>0.037329</td>\n",
       "      <td>0.029864</td>\n",
       "      <td>0.192141</td>\n",
       "      <td>0.173651</td>\n",
       "      <td>0.193207</td>\n",
       "      <td>0.172812</td>\n",
       "      <td>0</td>\n",
       "    </tr>\n",
       "    <tr>\n",
       "      <th>1</th>\n",
       "      <td>2</td>\n",
       "      <td>18.461546</td>\n",
       "      <td>25.806718</td>\n",
       "      <td>25.655944</td>\n",
       "      <td>26.883562</td>\n",
       "      <td>0.797231</td>\n",
       "      <td>0.627642</td>\n",
       "      <td>0.614348</td>\n",
       "      <td>0.586758</td>\n",
       "      <td>0.081968</td>\n",
       "      <td>...</td>\n",
       "      <td>1678.201018</td>\n",
       "      <td>0.000190</td>\n",
       "      <td>0.000158</td>\n",
       "      <td>0.000198</td>\n",
       "      <td>0.000165</td>\n",
       "      <td>0.013800</td>\n",
       "      <td>0.012556</td>\n",
       "      <td>0.014080</td>\n",
       "      <td>0.012841</td>\n",
       "      <td>0</td>\n",
       "    </tr>\n",
       "    <tr>\n",
       "      <th>2</th>\n",
       "      <td>3</td>\n",
       "      <td>17.975612</td>\n",
       "      <td>24.888646</td>\n",
       "      <td>23.639344</td>\n",
       "      <td>23.941351</td>\n",
       "      <td>0.800654</td>\n",
       "      <td>0.667611</td>\n",
       "      <td>0.716540</td>\n",
       "      <td>0.705741</td>\n",
       "      <td>0.094696</td>\n",
       "      <td>...</td>\n",
       "      <td>1324.597589</td>\n",
       "      <td>0.000161</td>\n",
       "      <td>0.000127</td>\n",
       "      <td>0.000132</td>\n",
       "      <td>0.000130</td>\n",
       "      <td>0.012707</td>\n",
       "      <td>0.011277</td>\n",
       "      <td>0.011473</td>\n",
       "      <td>0.011389</td>\n",
       "      <td>0</td>\n",
       "    </tr>\n",
       "  </tbody>\n",
       "</table>\n",
       "<p>3 rows × 26 columns</p>\n",
       "</div>"
      ],
      "text/plain": [
       "   serial_no  dissimilarity_0  dissimilarity_45  dissimilarity_90  \\\n",
       "0          1        33.571474         37.613824         30.087053   \n",
       "1          2        18.461546         25.806718         25.655944   \n",
       "2          3        17.975612         24.888646         23.639344   \n",
       "\n",
       "   dissimilarity_135  correlation_0  correlation_45  correlation_90  \\\n",
       "0          37.102539       0.771983        0.746361        0.809737   \n",
       "1          26.883562       0.797231        0.627642        0.614348   \n",
       "2          23.941351       0.800654        0.667611        0.716540   \n",
       "\n",
       "   correlation_135  homogeneity_0  ...  contrast_135     ASM_0    ASM_45  \\\n",
       "0         0.747152       0.341245  ...   5075.587782  0.036918  0.030155   \n",
       "1         0.586758       0.081968  ...   1678.201018  0.000190  0.000158   \n",
       "2         0.705741       0.094696  ...   1324.597589  0.000161  0.000127   \n",
       "\n",
       "     ASM_90   ASM_135  energy_0  energy_45  energy_90  energy_135  label  \n",
       "0  0.037329  0.029864  0.192141   0.173651   0.193207    0.172812      0  \n",
       "1  0.000198  0.000165  0.013800   0.012556   0.014080    0.012841      0  \n",
       "2  0.000132  0.000130  0.012707   0.011277   0.011473    0.011389      0  \n",
       "\n",
       "[3 rows x 26 columns]"
      ]
     },
     "execution_count": 2,
     "metadata": {},
     "output_type": "execute_result"
    }
   ],
   "source": [
    "df = pd.read_excel(\"dataset_final (1).xlsx\")\n",
    "df.drop(\"fname\",axis=1,inplace=True)\n",
    "df.head(3)"
   ]
  },
  {
   "cell_type": "markdown",
   "metadata": {
    "id": "55TOs61tgVPN"
   },
   "source": [
    "# **A1**"
   ]
  },
  {
   "cell_type": "code",
   "execution_count": 3,
   "metadata": {
    "colab": {
     "base_uri": "https://localhost:8080/"
    },
    "executionInfo": {
     "elapsed": 3240,
     "status": "ok",
     "timestamp": 1701452513112,
     "user": {
      "displayName": "Hemanth Babu",
      "userId": "04889620377749764274"
     },
     "user_tz": -330
    },
    "id": "u8FfnQMbdgKD",
    "outputId": "a8d1eb39-443f-469b-84c7-599b4b54f90b"
   },
   "outputs": [
    {
     "name": "stdout",
     "output_type": "stream",
     "text": [
      "K=3 Inertia: 20649284951.759777\n",
      "K=5 Inertia: 13382828007.628775\n"
     ]
    }
   ],
   "source": [
    "# Identifying non-numeric columns\n",
    "x=df.drop(\"label\",axis=1)\n",
    "y=df[\"label\"]\n",
    "\n",
    "\n",
    "# K-means clustering with k = 3\n",
    "kmeans3 = KMeans(n_clusters=3)\n",
    "kmeans3.fit(x)\n",
    "\n",
    "# K-means clustering with k = 5\n",
    "kmeans5 = KMeans(n_clusters=5)\n",
    "kmeans5.fit(x)\n",
    "\n",
    "# Checking inertia or silhouette scores for evaluating the clustering\n",
    "print(\"K=3 Inertia:\", kmeans3.inertia_)\n",
    "print(\"K=5 Inertia:\", kmeans5.inertia_)"
   ]
  },
  {
   "cell_type": "markdown",
   "metadata": {
    "id": "kdeQe_shgS8e"
   },
   "source": [
    "# **A2**"
   ]
  },
  {
   "cell_type": "code",
   "execution_count": 4,
   "metadata": {
    "colab": {
     "base_uri": "https://localhost:8080/",
     "height": 1000
    },
    "executionInfo": {
     "elapsed": 58560,
     "status": "ok",
     "timestamp": 1701452595582,
     "user": {
      "displayName": "Hemanth Babu",
      "userId": "04889620377749764274"
     },
     "user_tz": -330
    },
    "id": "uXvztwB6eVN3",
    "outputId": "9a1b03b3-9173-4e8b-dc4d-75d149d5044e"
   },
   "outputs": [
    {
     "data": {
      "image/png": "[encoded data removed]",
      "text/plain": [
       "<Figure size 800x600 with 1 Axes>"
      ]
     },
     "metadata": {},
     "output_type": "display_data"
    }
   ],
   "source": [
    "# Determining the ideal k value using the Elbow Method\n",
    "distortions = []\n",
    "K = range(1, 31)\n",
    "for k in K:\n",
    "    kmeans = KMeans(n_clusters=k)\n",
    "    kmeans.fit(x)\n",
    "    distortions.append(kmeans.inertia_)\n",
    "\n",
    "# Plotting the Elbow graph\n",
    "plt.figure(figsize=(8, 6))\n",
    "plt.plot(K, distortions, 'bx-')\n",
    "plt.xlabel('k')\n",
    "plt.ylabel('Average Distortion')\n",
    "plt.title('Elbow Method For Optimal k')\n",
    "plt.show()"
   ]
  },
  {
   "cell_type": "markdown",
   "metadata": {
    "id": "jMT2m6YSgQ8h"
   },
   "source": [
    "# **A3**"
   ]
  },
  {
   "cell_type": "code",
   "execution_count": null,
   "metadata": {
    "colab": {
     "base_uri": "https://localhost:8080/",
     "height": 321
    },
    "executionInfo": {
     "elapsed": 15346,
     "status": "ok",
     "timestamp": 1701452800773,
     "user": {
      "displayName": "Hemanth Babu",
      "userId": "04889620377749764274"
     },
     "user_tz": -330
    },
    "id": "QMM9hrznepbI",
    "outputId": "a6ba5051-a16a-473a-e6ff-0878165aa4ac"
   },
   "outputs": [],
   "source": [
    "import scipy.cluster.hierarchy as sch\n",
    "\n",
    "# Hierarchical clustering using Agglomerative Clustering\n",
    "plt.figure(figsize=(30, 7))\n",
    "dendrogram = sch.dendrogram(sch.linkage(x, method='ward'))\n",
    "plt.title('Dendrogram')\n",
    "plt.xlabel('Samples')\n",
    "plt.ylabel('Distance')\n",
    "plt.show()"
   ]
  },
  {
   "cell_type": "markdown",
   "metadata": {
    "id": "Hok8_GFygM9w"
   },
   "source": [
    "# **A4**"
   ]
  },
  {
   "cell_type": "code",
   "execution_count": 5,
   "metadata": {
    "executionInfo": {
     "elapsed": 11066,
     "status": "ok",
     "timestamp": 1701452853533,
     "user": {
      "displayName": "Hemanth Babu",
      "userId": "04889620377749764274"
     },
     "user_tz": -330
    },
    "id": "OsTBSlFZfVpQ"
   },
   "outputs": [],
   "source": [
    "from sklearn.feature_selection import SequentialFeatureSelector\n",
    "from sklearn.linear_model import LinearRegression\n",
    "from sklearn.preprocessing import StandardScaler\n",
    "# Separating features and target\n",
    "\n",
    "X = df.drop(columns=['label'])  # Features\n",
    "y = df['label']  # Target\n",
    "\n",
    "# Sequential Feature Selector\n",
    "selector = SequentialFeatureSelector(LinearRegression(), n_features_to_select=1)\n",
    "selector.fit(x, y)\n",
    "\n",
    "# Getting selected features\n",
    "selected_features = x.columns[selector.support_]\n"
   ]
  },
  {
   "cell_type": "code",
   "execution_count": 6,
   "metadata": {
    "colab": {
     "base_uri": "https://localhost:8080/"
    },
    "executionInfo": {
     "elapsed": 678,
     "status": "ok",
     "timestamp": 1701452854203,
     "user": {
      "displayName": "Hemanth Babu",
      "userId": "04889620377749764274"
     },
     "user_tz": -330
    },
    "id": "t84R27-SfZiJ",
    "outputId": "291da590-b382-4474-d366-df868d6af187"
   },
   "outputs": [
    {
     "name": "stdout",
     "output_type": "stream",
     "text": [
      "Number of features needed for 95% variance in PCA: 2\n"
     ]
    }
   ],
   "source": [
    "from sklearn.decomposition import PCA\n",
    "\n",
    "# Performing PCA on scaled data\n",
    "pca = PCA(n_components=0.95)  # Captures 95% of variance\n",
    "x_pca = pca.fit_transform(x)\n",
    "\n",
    "# Getting the no.of components/features needed for 95% variance\n",
    "num_features_for_95_variance = pca.n_components_\n",
    "\n",
    "# Printting the no.of components/features needed for 95% variance\n",
    "print(\"Number of features needed for 95% variance in PCA:\", num_features_for_95_variance)"
   ]
  },
  {
   "cell_type": "markdown",
   "metadata": {
    "id": "H3nOoZ5GgDIg"
   },
   "source": [
    "# **A5**"
   ]
  },
  {
   "cell_type": "code",
   "execution_count": 7,
   "metadata": {
    "colab": {
     "base_uri": "https://localhost:8080/"
    },
    "executionInfo": {
     "elapsed": 725,
     "status": "ok",
     "timestamp": 1701452861365,
     "user": {
      "displayName": "Hemanth Babu",
      "userId": "04889620377749764274"
     },
     "user_tz": -330
    },
    "id": "OezpsD4VfiT2",
    "outputId": "851b0cc5-62e9-4022-e8a8-1f98ca518ba1"
   },
   "outputs": [
    {
     "name": "stdout",
     "output_type": "stream",
     "text": [
      "Accuracy using transformed dataset: 1.0\n"
     ]
    }
   ],
   "source": [
    "from sklearn.decomposition import PCA\n",
    "from sklearn.model_selection import train_test_split\n",
    "from sklearn.linear_model import LogisticRegression\n",
    "from sklearn.metrics import accuracy_score\n",
    "from sklearn.preprocessing import StandardScaler\n",
    "\n",
    "# PCA with K components\n",
    "K = 10  # Update with the desired number of components\n",
    "pca = PCA(n_components=K)\n",
    "X_pca = pca.fit_transform(x)\n",
    "\n",
    "# Splitting into training and testing sets\n",
    "X_train, X_test, y_train, y_test = train_test_split(x_pca, y, test_size=0.2, random_state=42)\n",
    "\n",
    "# Model (Logistic Regression as an example)\n",
    "model = LogisticRegression()\n",
    "model.fit(X_train, y_train)\n",
    "\n",
    "# Predicting\n",
    "y_pred = model.predict(X_test)\n",
    "\n",
    "# Calculating accuracy using the transformed dataset\n",
    "accuracy = accuracy_score(y_test, y_pred)\n",
    "print(\"Accuracy using transformed dataset:\", accuracy)"
   ]
  },
  {
   "cell_type": "code",
   "execution_count": null,
   "metadata": {},
   "outputs": [],
   "source": []
  }
 ],
 "metadata": {
  "colab": {
   "authorship_tag": "ABX9TyNo9EapyQ2kOlP8gIxrqQfW",
   "mount_file_id": "1xWI_8HDagLcherZrGxk7cy6-6weE1Mbe",
   "provenance": []
  },
  "kernelspec": {
   "display_name": "Python 3 (ipykernel)",
   "language": "python",
   "name": "python3"
  },
  "language_info": {
   "codemirror_mode": {
    "name": "ipython",
    "version": 3
   },
   "file_extension": ".py",
   "mimetype": "text/x-python",
   "name": "python",
   "nbconvert_exporter": "python",
   "pygments_lexer": "ipython3",
   "version": "3.11.4"
  }
 },
 "nbformat": 4,
 "nbformat_minor": 1
}
